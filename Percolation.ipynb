{
  "nbformat": 4,
  "nbformat_minor": 0,
  "metadata": {
    "colab": {
      "provenance": [],
      "authorship_tag": "ABX9TyNlMQwTp+K3rC4xWJ1bX+Er",
      "include_colab_link": true
    },
    "kernelspec": {
      "name": "python3",
      "display_name": "Python 3"
    },
    "language_info": {
      "name": "python"
    }
  },
  "cells": [
    {
      "cell_type": "markdown",
      "metadata": {
        "id": "view-in-github",
        "colab_type": "text"
      },
      "source": [
        "<a href=\"https://colab.research.google.com/github/kaw84/Algorithms/blob/main/Percolation.ipynb\" target=\"_parent\"><img src=\"https://colab.research.google.com/assets/colab-badge.svg\" alt=\"Open In Colab\"/></a>"
      ]
    },
    {
      "cell_type": "code",
      "execution_count": 133,
      "metadata": {
        "id": "-NRCn5HQDguD"
      },
      "outputs": [],
      "source": [
        "import random\n",
        "import numpy as np\n",
        "import pandas as pd\n",
        "import seaborn as sns\n",
        "import matplotlib.pyplot as plt\n",
        "from matplotlib.colors import ListedColormap"
      ]
    },
    {
      "cell_type": "markdown",
      "source": [
        "Percolation model describes whether there is connection between top and bottom of a grid - for example, whether a porous filter allows water to pass. To start, initialize array N by N of blocked sites, include code for opening given site and connecting it with its neighbors. When a site is connected with any of the top sites, water fills it. If water fills any of the sites in the bottom row, the system percolates."
      ],
      "metadata": {
        "id": "DpjHEhTyDqn6"
      }
    },
    {
      "cell_type": "code",
      "source": [
        "class Percolation2:\n",
        "\n",
        "  def __init__(self,dimension):\n",
        "    self.dimension = dimension\n",
        "    self.grid = np.zeros((dimension, dimension))\n",
        "    self.id = list(range(dimension**2))\n",
        "\n",
        "  # what is the index of the site\n",
        "  def id_index(self, row, col):\n",
        "    if row == 0:\n",
        "      return 0\n",
        "    return row * self.dimension +col\n",
        "\n",
        "  # opens the site (row, col) if it is not open already\n",
        "  def open(self, row, col):\n",
        "    if self.grid[row,col] == 0:\n",
        "      self.grid[row,col] = 1\n",
        "      if row > 0 and self.isOpen(row,col) and self.isOpen(row-1, col):\n",
        "        self.union(row-1, col, row, col)\n",
        "\n",
        "      if col > 0 and self.isOpen(row,col) and self.isOpen(row, col-1):\n",
        "        self.union(row, col-1, row, col)\n",
        "\n",
        "      if col < self.dimension-1 and self.isOpen(row,col) and self.isOpen(row, col+1):\n",
        "        self.union(row, col, row, col+1)\n",
        "\n",
        "      if row < self.dimension-1 and self.isOpen(row,col) and self.isOpen(row+1, col):\n",
        "        self.union(row, col, row+1, col)\n",
        "\n",
        "\n",
        "  # is the site (row, col) open?\n",
        "  def isOpen(self, row, col):\n",
        "    if self.grid[row,col] == 1:\n",
        "      return True\n",
        "\n",
        "  def isFull(self,row,col):\n",
        "    return any([self.root(row,col) == self.root(0,col)])\n",
        "\n",
        "  # creating root connection between nearest neighbors if they are open\n",
        "  def union(self, row1, col1, row2, col2):\n",
        "    pid = self.id[self.id_index(row1,col1)]\n",
        "    qid = self.id[self.id_index(row2,col2)]\n",
        "    for i in range(len(self.id)):\n",
        "      if self.id[i] == qid:\n",
        "        self.id[i] = pid\n",
        "\n",
        "  # returns the number of open sites\n",
        "  def numberOfOpenSites(self):\n",
        "    return sum(sum(self.grid))\n",
        "\n",
        "  # gives number of sites\n",
        "  def numberOfZeros(self):\n",
        "    return self.dimension**2\n",
        "\n",
        "  # gives percentage of open sites\n",
        "  def percentage(self):\n",
        "    return self.numberOfOpenSites()/self.numberOfZeros() * 100\n",
        "\n",
        "  # what is the root of a site\n",
        "  def root(self, row, col):\n",
        "    i = self.id_index(row,col)\n",
        "    while i != self.id[i]:\n",
        "      i = self.id[i]\n",
        "    return i\n",
        "\n",
        "  # does the system percolate?\n",
        "  def percolates(self):\n",
        "    for i in range(self.dimension-1):\n",
        "      if self.isFull(self.dimension - 1, i):\n",
        "        return True\n",
        "    return False\n",
        "\n",
        "  # printing the array\n",
        "  def print(self):\n",
        "    for row in range(self.dimension):\n",
        "      print(''.join([str(int(self.grid[row, col])) for col in range(self.dimension)]))\n",
        "\n",
        "  def mapping(self,row,col):\n",
        "    if self.isFull(row,col) == True:\n",
        "      self.grid[row,col] = 2\n",
        "\n",
        "    # return self.grid\n",
        "\n",
        "\n",
        "\n"
      ],
      "metadata": {
        "id": "aky4uXuwe8OO"
      },
      "execution_count": 193,
      "outputs": []
    },
    {
      "cell_type": "markdown",
      "source": [
        "After creating a code, Monte Carlo simulation needs to be used to randomly choose row and columnn and open them. This will allow to calculate what % of sites needs to be open for the percolation to happen. Random samplings helps to obtain the threshold value."
      ],
      "metadata": {
        "id": "zQbeCRIhXnzJ"
      }
    },
    {
      "cell_type": "code",
      "source": [
        "n = 100\n",
        "percentages = []\n",
        "\n",
        "for i in range(10):\n",
        "  data = Percolation2(n)\n",
        "  while data.percolates() == False:\n",
        "    row = random.randint(0,n-1)\n",
        "    col = random.randint(0,n-1)\n",
        "    data.open(row,col)\n",
        "\n",
        "  percentages.append(data.percentage())\n",
        "\n",
        "print(np.mean(percentages))\n",
        "print(np.std(percentages))\n"
      ],
      "metadata": {
        "colab": {
          "base_uri": "https://localhost:8080/"
        },
        "id": "YQ0SZN2d3UHD",
        "outputId": "12462347-21b5-4501-ffb7-bede3c9cf338"
      },
      "execution_count": 206,
      "outputs": [
        {
          "output_type": "stream",
          "name": "stdout",
          "text": [
            "58.621\n",
            "1.3863653919511985\n"
          ]
        }
      ]
    },
    {
      "cell_type": "markdown",
      "source": [
        "To visualise system it is useful to plot it as a heatmap. The blocked sitesare visualised as black squares, the open sites as white squares and filled sites as blue squares."
      ],
      "metadata": {
        "id": "dJTFyeGi2xfk"
      }
    },
    {
      "cell_type": "code",
      "source": [
        "[data.mapping(i, j) for i in range(data.dimension) for j in range(data.dimension)]\n",
        "cmap_dict = {0: '#000000', 1:'#FFFFFF', 2: '#ADD8E6'}\n",
        "cmap = ListedColormap([cmap_dict[i] for i in range(3)])\n",
        "ax = sns.heatmap(data.grid, linewidth=0.5, cbar = False, xticklabels=False, yticklabels=False, cmap=cmap)\n",
        "plt.show()"
      ],
      "metadata": {
        "colab": {
          "base_uri": "https://localhost:8080/",
          "height": 406
        },
        "id": "KRn3YgMmwUW4",
        "outputId": "63b4e313-b348-4d9b-c123-329338b55cdc"
      },
      "execution_count": 207,
      "outputs": [
        {
          "output_type": "display_data",
          "data": {
            "text/plain": [
              "<Figure size 640x480 with 1 Axes>"
            ],
            "image/png": "[encoded data removed]"
          },
          "metadata": {}
        }
      ]
    }
  ]
}